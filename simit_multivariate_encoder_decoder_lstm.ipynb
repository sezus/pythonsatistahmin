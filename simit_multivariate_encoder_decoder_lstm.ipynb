{
 "cells": [
  {
   "cell_type": "code",
   "execution_count": 1,
   "metadata": {},
   "outputs": [
    {
     "name": "stderr",
     "output_type": "stream",
     "text": [
      "Using TensorFlow backend.\n"
     ]
    },
    {
     "name": "stdout",
     "output_type": "stream",
     "text": [
      "SalesCount            float64\n",
      "Price                 float64\n",
      "temp                  float64\n",
      "Max_temp              float64\n",
      "Min_temp              float64\n",
      "snow                  float64\n",
      "precip                float64\n",
      "gunes                 float64\n",
      "Ramazan               float64\n",
      "IsNationalHoliday     float64\n",
      "Year                 category\n",
      "dtype: object\n",
      "WARNING:tensorflow:From C:\\Users\\sezgi.sener\\AppData\\Local\\Continuum\\anaconda3\\lib\\site-packages\\tensorflow\\python\\framework\\op_def_library.py:263: colocate_with (from tensorflow.python.framework.ops) is deprecated and will be removed in a future version.\n",
      "Instructions for updating:\n",
      "Colocations handled automatically by placer.\n",
      "WARNING:tensorflow:From C:\\Users\\sezgi.sener\\AppData\\Local\\Continuum\\anaconda3\\lib\\site-packages\\tensorflow\\python\\ops\\math_ops.py:3066: to_int32 (from tensorflow.python.ops.math_ops) is deprecated and will be removed in a future version.\n",
      "Instructions for updating:\n",
      "Use tf.cast instead.\n"
     ]
    },
    {
     "name": "stderr",
     "output_type": "stream",
     "text": [
      "No handles with labels found to put in legend.\n"
     ]
    },
    {
     "data": {
      "text/plain": [
       "<Figure size 640x480 with 1 Axes>"
      ]
     },
     "metadata": {},
     "output_type": "display_data"
    },
    {
     "name": "stdout",
     "output_type": "stream",
     "text": [
      "cnn: [39.052] 19.0, 47.9, 45.8, 36.6\n",
      "39.0519438861763 [18.97526205102419, 47.949359291578425, 45.82745839807912, 36.61775789616447]\n"
     ]
    },
    {
     "name": "stderr",
     "output_type": "stream",
     "text": [
      "No handles with labels found to put in legend.\n"
     ]
    },
    {
     "data": {
      "text/plain": [
       "<Figure size 640x480 with 1 Axes>"
      ]
     },
     "metadata": {},
     "output_type": "display_data"
    },
    {
     "name": "stdout",
     "output_type": "stream",
     "text": [
      "cnn: [33.918] 13.3, 42.5, 39.5, 32.5\n",
      "33.91784435980012 [13.329241665679893, 42.54728266214313, 39.458071854540144, 32.50847429170592]\n"
     ]
    },
    {
     "name": "stderr",
     "output_type": "stream",
     "text": [
      "No handles with labels found to put in legend.\n"
     ]
    },
    {
     "data": {
      "text/plain": [
       "<Figure size 640x480 with 1 Axes>"
      ]
     },
     "metadata": {},
     "output_type": "display_data"
    },
    {
     "name": "stdout",
     "output_type": "stream",
     "text": [
      "cnn: [36.697] 14.8, 47.0, 42.0, 34.6\n",
      "36.69660069992434 [14.83732525149796, 46.98914558688412, 41.95479531746094, 34.61548215558769]\n"
     ]
    },
    {
     "name": "stderr",
     "output_type": "stream",
     "text": [
      "No handles with labels found to put in legend.\n"
     ]
    },
    {
     "data": {
      "text/plain": [
       "<Figure size 640x480 with 1 Axes>"
      ]
     },
     "metadata": {},
     "output_type": "display_data"
    },
    {
     "name": "stdout",
     "output_type": "stream",
     "text": [
      "cnn: [43.203] 15.0, 48.9, 49.4, 49.1\n",
      "43.203113698009375 [15.028515699471235, 48.86552632646519, 49.414728077450754, 49.0970924583406]\n"
     ]
    },
    {
     "name": "stderr",
     "output_type": "stream",
     "text": [
      "No handles with labels found to put in legend.\n"
     ]
    },
    {
     "data": {
      "text/plain": [
       "<Figure size 640x480 with 1 Axes>"
      ]
     },
     "metadata": {},
     "output_type": "display_data"
    },
    {
     "name": "stdout",
     "output_type": "stream",
     "text": [
      "cnn: [37.765] 21.6, 47.6, 41.9, 35.0\n",
      "37.76546823250458 [21.59714256515515, 47.58613528597124, 41.85338828283246, 34.96197003190945]\n"
     ]
    },
    {
     "name": "stderr",
     "output_type": "stream",
     "text": [
      "No handles with labels found to put in legend.\n"
     ]
    },
    {
     "data": {
      "text/plain": [
       "<Figure size 640x480 with 1 Axes>"
      ]
     },
     "metadata": {},
     "output_type": "display_data"
    },
    {
     "name": "stdout",
     "output_type": "stream",
     "text": [
      "cnn: [47.030] 23.6, 53.7, 55.3, 48.6\n",
      "47.030377898891054 [23.636614828572746, 53.65070848101733, 55.25552719116704, 48.55063400441706]\n"
     ]
    },
    {
     "data": {
      "text/plain": [
       "<Figure size 640x480 with 1 Axes>"
      ]
     },
     "metadata": {},
     "output_type": "display_data"
    },
    {
     "name": "stdout",
     "output_type": "stream",
     "text": [
      "           0          1          2          3\n",
      "0  18.975262  47.949359  45.827458  36.617758\n",
      "1  13.329242  42.547283  39.458072  32.508474\n",
      "2  14.837325  46.989146  41.954795  34.615482\n",
      "3  15.028516  48.865526  49.414728  49.097092\n",
      "4  21.597143  47.586135  41.853388  34.961970\n",
      "5  23.636615  53.650708  55.255527  48.550634\n"
     ]
    },
    {
     "data": {
      "text/plain": [
       "<Figure size 640x480 with 1 Axes>"
      ]
     },
     "metadata": {},
     "output_type": "display_data"
    }
   ],
   "source": [
    "# multivariate multi-step encoder-decoder lstm for the power usage dataset\n",
    "from math import sqrt\n",
    "from numpy import split\n",
    "from numpy import array\n",
    "from pandas import read_csv\n",
    "from sklearn.metrics import mean_squared_error\n",
    "from matplotlib import pyplot\n",
    "from keras.utils.vis_utils import plot_model\n",
    "from keras.models import Sequential\n",
    "from keras.layers import Dense\n",
    "from keras.layers import LSTM\n",
    "from keras.layers import RepeatVector\n",
    "from keras.layers import TimeDistributed\n",
    "from pandas import DataFrame\n",
    "import pandas as pd\n",
    "from sklearn.metrics import mean_absolute_error\n",
    "\n",
    "# split a univariate dataset into train/test sets\n",
    "def split_dataset(data,n):\n",
    "\t# split into standard weeks\n",
    "\ttrain, test = data[0:-n], data[-n:]    \n",
    "\t#restructure into windows of weekly data\n",
    "\t#train = array(split(train, len(train)/7))\n",
    "\t#test = array(split(test, len(test)/7))\n",
    "\ttrain = array(split(train, len(train)/4))\n",
    "\ttest = array(split(test, len(test)/4))    \n",
    "\treturn train, test\n",
    "\n",
    "# evaluate one or more weekly forecasts against expected values\n",
    "def evaluate_forecasts(actual, predicted):\n",
    "\tscores = list()\n",
    "\tmae_scores = list()      \n",
    "\t# calculate an RMSE score for each day\n",
    "\tfor i in range(actual.shape[1]):\n",
    "\t\t# calculate mse\n",
    "\t\tmse = mean_squared_error(actual[:, i], predicted[:, i])\n",
    "\t\t# calculate rmse\n",
    "\t\trmse = sqrt(mse)\n",
    "\t\tmae = mean_absolute_error(actual[:, i], predicted[:, i])            \n",
    "\t\t# store\n",
    "\t\tscores.append(rmse)\n",
    "\t\tmae_scores.append(mae)        \n",
    "\t# calculate overall RMSE\n",
    "\ts = 0\n",
    "\trmse_=DataFrame(scores)           \n",
    "\tmae_=DataFrame(mae_scores)    \n",
    "\tsonuc=pd.concat([rmse_, mae_], axis=1, ignore_index=True)        \n",
    "\texport_sonuc= sonuc.to_excel (r'C:\\Users\\sezgi.sener\\Desktop\\New folder\\deep_learning_time_series_forecasting\\code\\MULTIVARIATE\\multivariate_encoder_decoder_lstm_sonuc.xlsx', index = None, header=True)        \n",
    "\tfor row in range(actual.shape[0]):\n",
    "\t\tfor col in range(actual.shape[1]):\n",
    "\t\t\ts += (actual[row, col] - predicted[row, col])**2\n",
    "\tscore = sqrt(s / (actual.shape[0] * actual.shape[1]))\n",
    "\treturn score, scores\n",
    "\n",
    "# summarize scores\n",
    "def summarize_scores(name, score, scores):\n",
    "\ts_scores = ', '.join(['%.1f' % s for s in scores])\n",
    "\tprint('%s: [%.3f] %s' % (name, score, s_scores))\n",
    "\n",
    "# convert history into inputs and outputs\n",
    "def to_supervised(train, n_input, n_out=4):\n",
    "\t# flatten data\n",
    "\tdata = train.reshape((train.shape[0]*train.shape[1], train.shape[2]))\n",
    "\tX, y = list(), list()\n",
    "\tin_start = 0\n",
    "\t# step over the entire history one time step at a time\n",
    "\tfor _ in range(len(data)):\n",
    "\t\t# define the end of the input sequence\n",
    "\t\tin_end = in_start + n_input\n",
    "\t\tout_end = in_end + n_out\n",
    "\t\t# ensure we have enough data for this instance\n",
    "\t\tif out_end < len(data):\n",
    "\t\t\tX.append(data[in_start:in_end, :])\n",
    "\t\t\ty.append(data[in_end:out_end, 0])\n",
    "\t\t# move along one time step\n",
    "\t\tin_start += 1\n",
    "\treturn array(X), array(y)\n",
    "\n",
    "# train the model\n",
    "def build_model(train, test,n_input):\n",
    "\t# prepare data\n",
    "\ttrain_x, train_y = to_supervised(train,n_input)\n",
    "\ttest_x, test_y = to_supervised(test, n_input)    \n",
    "\t#print(train_x)   \n",
    "\t# define parameters\n",
    "\tverbose, epochs, batch_size = 0, 50, 50\n",
    "\tn_timesteps, n_features, n_outputs = train_x.shape[1], train_x.shape[2], train_y.shape[1]\n",
    "\t# reshape output into [samples, timesteps, features]\n",
    "\ttrain_y = train_y.reshape((train_y.shape[0], train_y.shape[1], 1))\n",
    "\ttest_y = test_y.reshape((test_y.shape[0], test_y.shape[1], 1))    \n",
    "\t# define model\n",
    "\tmodel = Sequential()\n",
    "\tmodel.add(LSTM(200, activation='relu', input_shape=(n_timesteps, n_features)))\n",
    "\tmodel.add(RepeatVector(n_outputs))\n",
    "\tmodel.add(LSTM(200, activation='relu', return_sequences=True))\n",
    "\tmodel.add(TimeDistributed(Dense(150, activation='relu')))\n",
    "\tmodel.add(TimeDistributed(Dense(1)))\n",
    "\tmodel.compile(loss='mse', optimizer='adam')\n",
    "\tplot_model(model, show_shapes=True, to_file='mult_encoder_decoder_lstm.png')       \n",
    "\t# fit network\n",
    "\trepeats=1\n",
    "\tfor i in range(repeats):\n",
    "\t\t#model.set_weights(initial_weights)      \n",
    "\t\tmodel.compile(loss='mse', optimizer='adam', metrics=['mse','accuracy','mape'])          \n",
    "\t\taa=model.fit(train_x, train_y, epochs=epochs, batch_size=batch_size,validation_data=(test_x, test_y), verbose=verbose) \n",
    "\t\tpyplot.plot(aa.history['loss'],  color='blue')\n",
    "\t\tpyplot.plot(aa.history['val_loss'], color='orange')\n",
    "\t\t#print('%d) TrainRMSE=%f, TestRMSE=%f' % (i, xx.history['loss'].iloc[-1], xx.history['val_loss'].iloc[-1]))\n",
    "\t\tmodel.reset_states() \n",
    "\t\t#reset_weights(model)         \n",
    "\tpyplot.savefig('epochs_diagnostic_encoder_lstm.png')   \n",
    "\tpyplot.legend()\n",
    "\tpyplot.show()         \n",
    "\tmodel.fit(train_x, train_y, epochs=epochs, batch_size=batch_size, verbose=verbose)\n",
    "\treturn model\n",
    "\n",
    "# make a forecast\n",
    "def forecast(model, history, n_input):\n",
    "\t# flatten data\n",
    "\tdata = array(history)\n",
    "\tdata = data.reshape((data.shape[0]*data.shape[1], data.shape[2]))\n",
    "\t# retrieve last observations for input data\n",
    "\tinput_x = data[-n_input:, :]\n",
    "\t# reshape into [1, n_input, n]\n",
    "\tinput_x = input_x.reshape((1, input_x.shape[0], input_x.shape[1]))\n",
    "\t# forecast the next week\n",
    "\tyhat = model.predict(input_x, verbose=0)\n",
    "\t# we only want the vector forecast\n",
    "\tyhat = yhat[0]\n",
    "\treturn yhat\n",
    "\n",
    "# evaluate a single model\n",
    "def evaluate_model(train, test, n_input):\n",
    "\t# fit model\n",
    "\tmodel = build_model(train, test,n_input)\n",
    "\t# history is a list of weekly data\n",
    "\thistory = [x for x in train]\n",
    "\t# walk-forward validation over each week\n",
    "\tpredictions = list()\n",
    "\tfor i in range(len(test)):\n",
    "\t\t# predict the week\n",
    "\t\tyhat_sequence = forecast(model, history, n_input)\n",
    "\t\t# store the predictions\n",
    "\t\tpredictions.append(yhat_sequence)\n",
    "\t\t# get real observation and add to history for predicting the next week\n",
    "\t\thistory.append(test[i, :])\n",
    "\t# evaluate predictions days for each week\n",
    "\tpredictions = array(predictions)  \n",
    "\tscore, scores = evaluate_forecasts(test[:, :, 0], predictions)\n",
    "\treturn score, scores\n",
    "\n",
    "# load the new file\n",
    "# load the new file\n",
    "from sklearn import preprocessing\n",
    "dataset = read_csv('simithaftalik_2.csv', sep=',', header=0, index_col=0, \n",
    "         encoding='latin-1') \n",
    "#print(dataset)\n",
    "#dataset=dataset[['SalesCount','Price','temp','Max_temp','Min_temp','snow','precip','gunes','Ramazan','IsNationalHoliday','Month','MonthDT','Year']]\n",
    "dataset=dataset[['SalesCount','Price','temp','Max_temp','Min_temp','snow','precip','gunes','Ramazan','IsNationalHoliday','Year']]\n",
    "dataset[\"Ramazan\"] = dataset[\"Ramazan\"].astype('float')\n",
    "dataset[\"IsNationalHoliday\"] = dataset[\"IsNationalHoliday\"].astype('float')\n",
    "dataset[\"Year\"] = dataset[\"Year\"].astype('category')\n",
    "#dataset[\"Month\"] = dataset[\"Month\"].astype('category')\n",
    "#dataset[\"MonthDT\"] = dataset[\"MonthDT\"].astype('category')\n",
    "print(dataset.dtypes)\n",
    "le = preprocessing.LabelEncoder()\n",
    "le.fit(dataset['Year'])\n",
    "dataset['Year']=le.transform(dataset['Year'])\n",
    "\n",
    "#le.fit(dataset['Month'])\n",
    "#dataset['Month']=le.transform(dataset['Month'])\n",
    "\n",
    "#le.fit(dataset['MonthDT'])\n",
    "#dataset['MonthDT']=le.transform(dataset['MonthDT'])\n",
    "\n",
    "son = list()\n",
    "for n in [8,9,10,11,12,13]:\n",
    "\t#print(n)    \n",
    "\ttrain, test = split_dataset(dataset.values,n*4)\n",
    "\t# define the names and functions for the models we wish to evaluate\n",
    "\tn_input =4\n",
    "\tscore, scores = evaluate_model(train, test, n_input)\n",
    "\t# summarize scores\n",
    "\tsummarize_scores('cnn', score, scores)\n",
    "\t# evaluate each model\n",
    "\tprint(score,scores)\n",
    "\tson.append(scores)\n",
    "weeks = ['1', '2', '3', '4']\n",
    "a=0\n",
    "for i in [8,9,10,11,12,13]:\n",
    "\tpyplot.plot(weeks, DataFrame(son).T[a], marker='o', label=i*4)   \n",
    "\ta=a+1   \n",
    "pyplot.title('Haftalik Satislar Çok Değişkenli LSTM')\n",
    "pyplot.xlabel('HAFTA')\n",
    "pyplot.ylabel('RMSE HATA')    \n",
    "pyplot.savefig('multivariate_lstm_haftalik.png',show_shapes=True, show_layer_names=True) \n",
    "pyplot.legend()\n",
    "pyplot.show()\n",
    "print(DataFrame(son))\n",
    "pyplot.boxplot(DataFrame(son).T)\n",
    "pyplot.title('Haftalik Satislar Çok Değişkenli LSTM BOX PLOT')\n",
    "pyplot.xlabel('HAFTA')\n",
    "pyplot.ylabel('RMSE HATA')\n",
    "pyplot.savefig('multivariate_lstm_haftalik_boxplot.png',show_shapes=True, show_layer_names=True) \n",
    "pyplot.show()"
   ]
  },
  {
   "cell_type": "code",
   "execution_count": 2,
   "metadata": {},
   "outputs": [
    {
     "name": "stdout",
     "output_type": "stream",
     "text": [
      "SalesCount            float64\n",
      "Price                 float64\n",
      "temp                  float64\n",
      "Max_temp              float64\n",
      "Min_temp              float64\n",
      "snow                  float64\n",
      "precip                float64\n",
      "gunes                 float64\n",
      "Ramazan               float64\n",
      "IsNationalHoliday     float64\n",
      "Year                 category\n",
      "dtype: object\n"
     ]
    },
    {
     "name": "stderr",
     "output_type": "stream",
     "text": [
      "No handles with labels found to put in legend.\n"
     ]
    },
    {
     "data": {
      "image/png": "[encoded data removed]",
      "text/plain": [
       "<Figure size 432x288 with 1 Axes>"
      ]
     },
     "metadata": {
      "needs_background": "light"
     },
     "output_type": "display_data"
    },
    {
     "name": "stdout",
     "output_type": "stream",
     "text": [
      "cnn: [46.811] 12.3, 36.2, 38.8, 39.9\n",
      "46.81137348444286 [12.3202168600898, 36.18270730491828, 38.847899398720855, 39.921739522898946]\n"
     ]
    },
    {
     "name": "stderr",
     "output_type": "stream",
     "text": [
      "No handles with labels found to put in legend.\n"
     ]
    },
    {
     "data": {
      "image/png": "[encoded data removed]",
      "text/plain": [
       "<Figure size 432x288 with 1 Axes>"
      ]
     },
     "metadata": {
      "needs_background": "light"
     },
     "output_type": "display_data"
    },
    {
     "name": "stdout",
     "output_type": "stream",
     "text": [
      "cnn: [36.992] 10.9, 31.3, 30.1, 25.3\n",
      "36.99214707627147 [10.863193235535517, 31.3118888464764, 30.149056047217137, 25.27953948161691]\n"
     ]
    },
    {
     "name": "stderr",
     "output_type": "stream",
     "text": [
      "No handles with labels found to put in legend.\n"
     ]
    },
    {
     "data": {
      "image/png": "[encoded data removed]",
      "text/plain": [
       "<Figure size 432x288 with 1 Axes>"
      ]
     },
     "metadata": {
      "needs_background": "light"
     },
     "output_type": "display_data"
    },
    {
     "name": "stdout",
     "output_type": "stream",
     "text": [
      "cnn: [34.285] 14.1, 27.8, 32.1, 26.0\n",
      "34.28483558618701 [14.057557915160208, 27.8090001725327, 32.14254933491583, 26.030050548558545]\n"
     ]
    },
    {
     "name": "stderr",
     "output_type": "stream",
     "text": [
      "No handles with labels found to put in legend.\n"
     ]
    },
    {
     "data": {
      "image/png": "[encoded data removed]",
      "text/plain": [
       "<Figure size 432x288 with 1 Axes>"
      ]
     },
     "metadata": {
      "needs_background": "light"
     },
     "output_type": "display_data"
    },
    {
     "name": "stdout",
     "output_type": "stream",
     "text": [
      "cnn: [51.988] 19.7, 43.5, 47.4, 45.8\n",
      "51.98803573299341 [19.74018081605453, 43.45483407053424, 47.381832057985065, 45.84397737122418]\n"
     ]
    },
    {
     "name": "stderr",
     "output_type": "stream",
     "text": [
      "No handles with labels found to put in legend.\n"
     ]
    },
    {
     "data": {
      "image/png": "[encoded data removed]",
      "text/plain": [
       "<Figure size 432x288 with 1 Axes>"
      ]
     },
     "metadata": {
      "needs_background": "light"
     },
     "output_type": "display_data"
    },
    {
     "name": "stdout",
     "output_type": "stream",
     "text": [
      "cnn: [38.275] 14.8, 31.7, 29.4, 26.1\n",
      "38.27516692739971 [14.838998834862428, 31.677637787866527, 29.41636265917712, 26.119218275489374]\n"
     ]
    },
    {
     "name": "stderr",
     "output_type": "stream",
     "text": [
      "No handles with labels found to put in legend.\n"
     ]
    },
    {
     "data": {
      "image/png": "[encoded data removed]",
      "text/plain": [
       "<Figure size 432x288 with 1 Axes>"
      ]
     },
     "metadata": {
      "needs_background": "light"
     },
     "output_type": "display_data"
    },
    {
     "name": "stdout",
     "output_type": "stream",
     "text": [
      "cnn: [48.122] 37.1, 44.9, 46.4, 45.9\n",
      "48.121966219310906 [37.07672642247631, 44.91442893549774, 46.40183786568405, 45.931221578611606]\n"
     ]
    },
    {
     "data": {
      "image/png": "[encoded data removed]",
      "text/plain": [
       "<Figure size 432x288 with 1 Axes>"
      ]
     },
     "metadata": {
      "needs_background": "light"
     },
     "output_type": "display_data"
    },
    {
     "name": "stdout",
     "output_type": "stream",
     "text": [
      "           0          1          2          3\n",
      "0  12.320217  36.182707  38.847899  39.921740\n",
      "1  10.863193  31.311889  30.149056  25.279539\n",
      "2  14.057558  27.809000  32.142549  26.030051\n",
      "3  19.740181  43.454834  47.381832  45.843977\n",
      "4  14.838999  31.677638  29.416363  26.119218\n",
      "5  37.076726  44.914429  46.401838  45.931222\n"
     ]
    },
    {
     "data": {
      "image/png": "[encoded data removed]",
      "text/plain": [
       "<Figure size 432x288 with 1 Axes>"
      ]
     },
     "metadata": {
      "needs_background": "light"
     },
     "output_type": "display_data"
    }
   ],
   "source": [
    "# multivariate multi-step encoder-decoder lstm for the power usage dataset\n",
    "from math import sqrt\n",
    "from numpy import split\n",
    "from numpy import array\n",
    "from pandas import read_csv\n",
    "from sklearn.metrics import mean_squared_error\n",
    "from matplotlib import pyplot\n",
    "from keras.utils.vis_utils import plot_model\n",
    "from keras.models import Sequential\n",
    "from keras.layers import Dense\n",
    "from keras.layers import LSTM\n",
    "from keras.layers import RepeatVector\n",
    "from keras.layers import TimeDistributed\n",
    "from pandas import DataFrame\n",
    "import pandas as pd\n",
    "from sklearn.metrics import mean_absolute_error\n",
    "\n",
    "# split a univariate dataset into train/test sets\n",
    "def split_dataset(data,n):\n",
    "\t# split into standard weeks\n",
    "\ttrain, test = data[0:-n], data[-n:]    \n",
    "\t#restructure into windows of weekly data\n",
    "\t#train = array(split(train, len(train)/7))\n",
    "\t#test = array(split(test, len(test)/7))\n",
    "\ttrain = array(split(train, len(train)/4))\n",
    "\ttest = array(split(test, len(test)/4))    \n",
    "\treturn train, test\n",
    "\n",
    "# evaluate one or more weekly forecasts against expected values\n",
    "def evaluate_forecasts(actual, predicted):\n",
    "\tscores = list()\n",
    "\tmae_scores = list()      \n",
    "\t# calculate an RMSE score for each day\n",
    "\tfor i in range(actual.shape[1]):\n",
    "\t\t# calculate mse\n",
    "\t\tmse = mean_squared_error(actual[:, i], predicted[:, i])\n",
    "\t\t# calculate rmse\n",
    "\t\trmse = sqrt(mse)\n",
    "\t\tmae = mean_absolute_error(actual[:, i], predicted[:, i])            \n",
    "\t\t# store\n",
    "\t\tscores.append(mae)\n",
    "\t\tmae_scores.append(rmse)        \n",
    "\t# calculate overall RMSE\n",
    "\ts = 0\n",
    "\trmse_=DataFrame(scores)           \n",
    "\tmae_=DataFrame(mae_scores)    \n",
    "\tsonuc=pd.concat([rmse_, mae_], axis=1, ignore_index=True)        \n",
    "\texport_sonuc= sonuc.to_excel (r'C:\\Users\\sezgi.sener\\Desktop\\New folder\\deep_learning_time_series_forecasting\\code\\MULTIVARIATE\\multivariate_encoder_decoder_lstm_sonuc.xlsx', index = None, header=True)        \n",
    "\tfor row in range(actual.shape[0]):\n",
    "\t\tfor col in range(actual.shape[1]):\n",
    "\t\t\ts += (actual[row, col] - predicted[row, col])**2\n",
    "\tscore = sqrt(s / (actual.shape[0] * actual.shape[1]))\n",
    "\treturn score, scores\n",
    "\n",
    "# summarize scores\n",
    "def summarize_scores(name, score, scores):\n",
    "\ts_scores = ', '.join(['%.1f' % s for s in scores])\n",
    "\tprint('%s: [%.3f] %s' % (name, score, s_scores))\n",
    "\n",
    "# convert history into inputs and outputs\n",
    "def to_supervised(train, n_input, n_out=4):\n",
    "\t# flatten data\n",
    "\tdata = train.reshape((train.shape[0]*train.shape[1], train.shape[2]))\n",
    "\tX, y = list(), list()\n",
    "\tin_start = 0\n",
    "\t# step over the entire history one time step at a time\n",
    "\tfor _ in range(len(data)):\n",
    "\t\t# define the end of the input sequence\n",
    "\t\tin_end = in_start + n_input\n",
    "\t\tout_end = in_end + n_out\n",
    "\t\t# ensure we have enough data for this instance\n",
    "\t\tif out_end < len(data):\n",
    "\t\t\tX.append(data[in_start:in_end, :])\n",
    "\t\t\ty.append(data[in_end:out_end, 0])\n",
    "\t\t# move along one time step\n",
    "\t\tin_start += 1\n",
    "\treturn array(X), array(y)\n",
    "\n",
    "# train the model\n",
    "def build_model(train, test,n_input):\n",
    "\t# prepare data\n",
    "\ttrain_x, train_y = to_supervised(train,n_input)\n",
    "\ttest_x, test_y = to_supervised(test, n_input)    \n",
    "\t#print(train_x)   \n",
    "\t# define parameters\n",
    "\tverbose, epochs, batch_size = 0, 50, 50\n",
    "\tn_timesteps, n_features, n_outputs = train_x.shape[1], train_x.shape[2], train_y.shape[1]\n",
    "\t# reshape output into [samples, timesteps, features]\n",
    "\ttrain_y = train_y.reshape((train_y.shape[0], train_y.shape[1], 1))\n",
    "\ttest_y = test_y.reshape((test_y.shape[0], test_y.shape[1], 1))    \n",
    "\t# define model\n",
    "\tmodel = Sequential()\n",
    "\tmodel.add(LSTM(200, activation='relu', input_shape=(n_timesteps, n_features)))\n",
    "\tmodel.add(RepeatVector(n_outputs))\n",
    "\tmodel.add(LSTM(200, activation='relu', return_sequences=True))\n",
    "\tmodel.add(TimeDistributed(Dense(150, activation='relu')))\n",
    "\tmodel.add(TimeDistributed(Dense(1)))\n",
    "\tmodel.compile(loss='mse', optimizer='adam')\n",
    "\tplot_model(model, show_shapes=True, to_file='mult_encoder_decoder_lstm.png')       \n",
    "\t# fit network\n",
    "\trepeats=1\n",
    "\tfor i in range(repeats):\n",
    "\t\t#model.set_weights(initial_weights)      \n",
    "\t\tmodel.compile(loss='mse', optimizer='adam', metrics=['mse','accuracy','mape'])          \n",
    "\t\taa=model.fit(train_x, train_y, epochs=epochs, batch_size=batch_size,validation_data=(test_x, test_y), verbose=verbose) \n",
    "\t\tpyplot.plot(aa.history['loss'],  color='blue')\n",
    "\t\tpyplot.plot(aa.history['val_loss'], color='orange')\n",
    "\t\t#print('%d) TrainRMSE=%f, TestRMSE=%f' % (i, xx.history['loss'].iloc[-1], xx.history['val_loss'].iloc[-1]))\n",
    "\t\tmodel.reset_states() \n",
    "\t\t#reset_weights(model)         \n",
    "\tpyplot.savefig('epochs_diagnostic_encoder_lstm.png')   \n",
    "\tpyplot.legend()\n",
    "\tpyplot.show()         \n",
    "\tmodel.fit(train_x, train_y, epochs=epochs, batch_size=batch_size, verbose=verbose)\n",
    "\treturn model\n",
    "\n",
    "# make a forecast\n",
    "def forecast(model, history, n_input):\n",
    "\t# flatten data\n",
    "\tdata = array(history)\n",
    "\tdata = data.reshape((data.shape[0]*data.shape[1], data.shape[2]))\n",
    "\t# retrieve last observations for input data\n",
    "\tinput_x = data[-n_input:, :]\n",
    "\t# reshape into [1, n_input, n]\n",
    "\tinput_x = input_x.reshape((1, input_x.shape[0], input_x.shape[1]))\n",
    "\t# forecast the next week\n",
    "\tyhat = model.predict(input_x, verbose=0)\n",
    "\t# we only want the vector forecast\n",
    "\tyhat = yhat[0]\n",
    "\treturn yhat\n",
    "\n",
    "# evaluate a single model\n",
    "def evaluate_model(train, test, n_input):\n",
    "\t# fit model\n",
    "\tmodel = build_model(train, test,n_input)\n",
    "\t# history is a list of weekly data\n",
    "\thistory = [x for x in train]\n",
    "\t# walk-forward validation over each week\n",
    "\tpredictions = list()\n",
    "\tfor i in range(len(test)):\n",
    "\t\t# predict the week\n",
    "\t\tyhat_sequence = forecast(model, history, n_input)\n",
    "\t\t# store the predictions\n",
    "\t\tpredictions.append(yhat_sequence)\n",
    "\t\t# get real observation and add to history for predicting the next week\n",
    "\t\thistory.append(test[i, :])\n",
    "\t# evaluate predictions days for each week\n",
    "\tpredictions = array(predictions)  \n",
    "\tscore, scores = evaluate_forecasts(test[:, :, 0], predictions)\n",
    "\treturn score, scores\n",
    "\n",
    "# load the new file\n",
    "# load the new file\n",
    "from sklearn import preprocessing\n",
    "dataset = read_csv('simithaftalik_2.csv', sep=',', header=0, index_col=0, \n",
    "         encoding='latin-1') \n",
    "#print(dataset)\n",
    "#dataset=dataset[['SalesCount','Price','temp','Max_temp','Min_temp','snow','precip','gunes','Ramazan','IsNationalHoliday','Month','MonthDT','Year']]\n",
    "dataset=dataset[['SalesCount','Price','temp','Max_temp','Min_temp','snow','precip','gunes','Ramazan','IsNationalHoliday','Year']]\n",
    "dataset[\"Ramazan\"] = dataset[\"Ramazan\"].astype('float')\n",
    "dataset[\"IsNationalHoliday\"] = dataset[\"IsNationalHoliday\"].astype('float')\n",
    "dataset[\"Year\"] = dataset[\"Year\"].astype('category')\n",
    "#dataset[\"Month\"] = dataset[\"Month\"].astype('category')\n",
    "#dataset[\"MonthDT\"] = dataset[\"MonthDT\"].astype('category')\n",
    "print(dataset.dtypes)\n",
    "le = preprocessing.LabelEncoder()\n",
    "le.fit(dataset['Year'])\n",
    "dataset['Year']=le.transform(dataset['Year'])\n",
    "\n",
    "#le.fit(dataset['Month'])\n",
    "#dataset['Month']=le.transform(dataset['Month'])\n",
    "\n",
    "#le.fit(dataset['MonthDT'])\n",
    "#dataset['MonthDT']=le.transform(dataset['MonthDT'])\n",
    "\n",
    "son = list()\n",
    "for n in [8,9,10,11,12,13]:\n",
    "\t#print(n)    \n",
    "\ttrain, test = split_dataset(dataset.values,n*4)\n",
    "\t# define the names and functions for the models we wish to evaluate\n",
    "\tn_input =4\n",
    "\tscore, scores = evaluate_model(train, test, n_input)\n",
    "\t# summarize scores\n",
    "\tsummarize_scores('cnn', score, scores)\n",
    "\t# evaluate each model\n",
    "\tprint(score,scores)\n",
    "\tson.append(scores)\n",
    "weeks = ['1', '2', '3', '4']\n",
    "a=0\n",
    "for i in [8,9,10,11,12,13]:\n",
    "\tpyplot.plot(weeks, DataFrame(son).T[a], marker='o', label=i*4)   \n",
    "\ta=a+1   \n",
    "pyplot.title('Haftalik Satislar Çok Değişkenli LSTM')\n",
    "pyplot.xlabel('HAFTA')\n",
    "pyplot.ylabel('MAE HATA')    \n",
    "pyplot.savefig('multivariate_lstm_haftalik.png',show_shapes=True, show_layer_names=True) \n",
    "pyplot.legend()\n",
    "pyplot.show()\n",
    "print(DataFrame(son))\n",
    "pyplot.boxplot(DataFrame(son).T)\n",
    "pyplot.title('Haftalik Satislar Çok Değişkenli LSTM BOX PLOT')\n",
    "pyplot.xlabel('HAFTA')\n",
    "pyplot.ylabel('MAE HATA')\n",
    "pyplot.savefig('multivariate_lstm_haftalik_boxplot.png',show_shapes=True, show_layer_names=True) \n",
    "pyplot.show()"
   ]
  },
  {
   "cell_type": "code",
   "execution_count": null,
   "metadata": {},
   "outputs": [],
   "source": []
  }
 ],
 "metadata": {
  "kernelspec": {
   "display_name": "Python 3",
   "language": "python",
   "name": "python3"
  },
  "language_info": {
   "codemirror_mode": {
    "name": "ipython",
    "version": 3
   },
   "file_extension": ".py",
   "mimetype": "text/x-python",
   "name": "python",
   "nbconvert_exporter": "python",
   "pygments_lexer": "ipython3",
   "version": "3.7.1"
  }
 },
 "nbformat": 4,
 "nbformat_minor": 2
}
